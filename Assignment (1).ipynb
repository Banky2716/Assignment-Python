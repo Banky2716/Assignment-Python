{
 "cells": [
  {
   "cell_type": "markdown",
   "id": "e0ab584c-9c4a-4d72-a91f-1e3ce23cc637",
   "metadata": {},
   "source": [
    "# Operators (Arithmetic, Comparison, Logical, Assignment)"
   ]
  },
  {
   "cell_type": "code",
   "execution_count": 2,
   "id": "fe756a90-1302-4672-aaa4-6de5746c5c98",
   "metadata": {},
   "outputs": [
    {
     "name": "stdout",
     "output_type": "stream",
     "text": [
      "Sum: 25\n",
      "Difference: 2\n",
      "Product: 50\n",
      "Product: 2.0\n"
     ]
    }
   ],
   "source": [
    "x = 15\n",
    "y = 10\n",
    "print(\"Sum:\", x + y)\n",
    "\n",
    "x = 10\n",
    "y = 8\n",
    "print(\"Difference:\", x - y)\n",
    "\n",
    "x = 10\n",
    "y = 5\n",
    "print(\"Product:\", x * y)\n",
    "\n",
    "x = 8\n",
    "y = 4\n",
    "print(\"Product:\", x / y)"
   ]
  },
  {
   "cell_type": "code",
   "execution_count": 3,
   "id": "95be8ddd-c95b-40cf-9144-23a89fffe84f",
   "metadata": {},
   "outputs": [
    {
     "name": "stdout",
     "output_type": "stream",
     "text": [
      "Greater than 100: True\n"
     ]
    }
   ],
   "source": [
    "x = 150\n",
    "print(\"Greater than 100:\", x > 100)"
   ]
  },
  {
   "cell_type": "code",
   "execution_count": 4,
   "id": "f0f4c55c-4ce7-4640-b1ed-c7f5a0095d7f",
   "metadata": {},
   "outputs": [
    {
     "name": "stdout",
     "output_type": "stream",
     "text": [
      "True\n"
     ]
    }
   ],
   "source": [
    "x = 5\n",
    "y = 5\n",
    "print(x == y)"
   ]
  },
  {
   "cell_type": "code",
   "execution_count": 5,
   "id": "4e4b7398-7fd2-493e-bc27-baf164f1ae35",
   "metadata": {},
   "outputs": [
    {
     "name": "stdout",
     "output_type": "stream",
     "text": [
      "Divisible by 3 and 5: True\n"
     ]
    }
   ],
   "source": [
    "y = 30\n",
    "print(\"Divisible by 3 and 5:\", y % 3 == 0 and y % 5 == 0)"
   ]
  },
  {
   "cell_type": "code",
   "execution_count": 6,
   "id": "a6a870ef-4959-475e-83d6-1e1124bd9614",
   "metadata": {},
   "outputs": [
    {
     "name": "stdout",
     "output_type": "stream",
     "text": [
      "True, y is divisible by both 3 and 5.\n"
     ]
    }
   ],
   "source": [
    "y = 30\n",
    "\n",
    "if y % 3 == 0 and y % 5 == 0:\n",
    "    print(\"True, y is divisible by both 3 and 5.\")\n",
    "else:\n",
    "    print(\"False, y is not divisible by both 3 and 5.\")"
   ]
  },
  {
   "cell_type": "code",
   "execution_count": 7,
   "id": "a3dd14af-9b45-4e5c-a729-31bd07733379",
   "metadata": {},
   "outputs": [
    {
     "name": "stdout",
     "output_type": "stream",
     "text": [
      "False, the number is neither even nor divisible by 7.\n"
     ]
    }
   ],
   "source": [
    "num = 9\n",
    "\n",
    "if num % 4 == 0 or num % 7 == 0:\n",
    "    print(\"True, the number is even or divisible by 7.\")\n",
    "else:\n",
    "    print(\"False, the number is neither even nor divisible by 7.\")"
   ]
  },
  {
   "cell_type": "code",
   "execution_count": 8,
   "id": "576a478e-724e-4072-888b-8977ce373031",
   "metadata": {},
   "outputs": [
    {
     "name": "stdout",
     "output_type": "stream",
     "text": [
      "Modified value: 40\n"
     ]
    }
   ],
   "source": [
    "x = 8\n",
    "\n",
    "# Using += to add 2 to x\n",
    "x += 2\n",
    "\n",
    "# Using *= to multiply x by 4\n",
    "x *= 4\n",
    "\n",
    "print(\"Modified value:\", x)"
   ]
  },
  {
   "cell_type": "code",
   "execution_count": 9,
   "id": "ed5d1f5f-d7b4-45c8-a3a4-b05c96fae35f",
   "metadata": {},
   "outputs": [
    {
     "name": "stdout",
     "output_type": "stream",
     "text": [
      "First person is older\n"
     ]
    }
   ],
   "source": [
    "age1 = 32\n",
    "age2 = 20\n",
    "if age1 > age2:\n",
    "    print(\"First person is older\")\n",
    "elif age2 > age1:\n",
    "    print(\"Second person is older\")\n",
    "else:\n",
    "    print(\"Both are the same age\")"
   ]
  },
  {
   "cell_type": "code",
   "execution_count": 10,
   "id": "04c9c2c6-e6bc-4a3c-ada4-7b8fafa713bf",
   "metadata": {},
   "outputs": [
    {
     "name": "stdout",
     "output_type": "stream",
     "text": [
      "Is the light not on? True\n"
     ]
    }
   ],
   "source": [
    "is_light_on = False\n",
    "print(\"Is the light not on?\", not is_light_on)"
   ]
  },
  {
   "cell_type": "code",
   "execution_count": 11,
   "id": "91a38248-0efa-48de-a3bf-22212729cf93",
   "metadata": {},
   "outputs": [
    {
     "name": "stdout",
     "output_type": "stream",
     "text": [
      "The smallest number is: 3\n"
     ]
    }
   ],
   "source": [
    "x = 8\n",
    "y = 3\n",
    "z = 5\n",
    "\n",
    "if x < y and x < z:\n",
    "    smallest = x\n",
    "elif y < z:\n",
    "    smallest = y\n",
    "else:\n",
    "    smallest = z\n",
    "\n",
    "print(\"The smallest number is:\", smallest)"
   ]
  },
  {
   "cell_type": "code",
   "execution_count": 12,
   "id": "78ddbc7f-33a5-4c80-bc4d-e91024bce231",
   "metadata": {},
   "outputs": [
    {
     "name": "stdout",
     "output_type": "stream",
     "text": [
      "x = 15 y = 20\n"
     ]
    }
   ],
   "source": [
    "x = 20\n",
    "y = 15\n",
    "x, y = y, x\n",
    "print(\"x =\", x, \"y =\", y)"
   ]
  },
  {
   "cell_type": "markdown",
   "id": "8a483fdf-594a-4a11-a317-30044aaf6d4b",
   "metadata": {},
   "source": [
    "# List"
   ]
  },
  {
   "cell_type": "code",
   "execution_count": 14,
   "id": "fd3ae3df-82a5-4117-a253-666763c9aaf4",
   "metadata": {},
   "outputs": [
    {
     "name": "stdout",
     "output_type": "stream",
     "text": [
      "cat\n",
      "dog\n",
      "monkey\n",
      "lion\n",
      "tiger\n"
     ]
    }
   ],
   "source": [
    "items = [\"cat\", \"dog\", \"monkey\", \"lion\", \"tiger\"]\n",
    "for item in items:\n",
    "    print(item)"
   ]
  },
  {
   "cell_type": "code",
   "execution_count": 15,
   "id": "e59c0528-94dc-44e1-b2ad-23752f0c4cd9",
   "metadata": {},
   "outputs": [
    {
     "name": "stdout",
     "output_type": "stream",
     "text": [
      "['cat', 'dog', 'monkey', 'lion', 'tiger', 'rabbit']\n"
     ]
    }
   ],
   "source": [
    "items = [\"cat\", \"dog\", \"monkey\", \"lion\", \"tiger\"]\n",
    "\n",
    "items.append(\"rabbit\")\n",
    "print(items)"
   ]
  },
  {
   "cell_type": "code",
   "execution_count": 16,
   "id": "62c37089-e430-4b01-b6e4-e1755e7dd718",
   "metadata": {},
   "outputs": [
    {
     "name": "stdout",
     "output_type": "stream",
     "text": [
      "['cat', 'dog', 100, 'monkey', 'lion', 'tiger', 'rabbit']\n"
     ]
    }
   ],
   "source": [
    "items.insert(2, 100)\n",
    "print(items)"
   ]
  },
  {
   "cell_type": "code",
   "execution_count": 17,
   "id": "33b5406d-dcbe-416c-a004-9affb707f0e5",
   "metadata": {},
   "outputs": [
    {
     "name": "stdout",
     "output_type": "stream",
     "text": [
      "['cat', 'dog', 100, 'monkey', 'lion', 'tiger']\n"
     ]
    }
   ],
   "source": [
    "items.pop()\n",
    "print(items)"
   ]
  },
  {
   "cell_type": "code",
   "execution_count": 18,
   "id": "de3f6c56-54d3-415e-b021-26f61028388f",
   "metadata": {},
   "outputs": [
    {
     "name": "stdout",
     "output_type": "stream",
     "text": [
      "[10, 20, 30, 40, 50]\n"
     ]
    }
   ],
   "source": [
    "list_of_numbers = [10, 40, 20, 50, 30]\n",
    "list_of_numbers.sort()\n",
    "print(list_of_numbers)"
   ]
  },
  {
   "cell_type": "code",
   "execution_count": 19,
   "id": "53d85746-411c-40ce-83e4-340e8b5c2b90",
   "metadata": {},
   "outputs": [
    {
     "name": "stdout",
     "output_type": "stream",
     "text": [
      "[50, 40, 30, 20, 10]\n"
     ]
    }
   ],
   "source": [
    "list_of_numbers.reverse()\n",
    "print(list_of_numbers)"
   ]
  },
  {
   "cell_type": "code",
   "execution_count": 20,
   "id": "6864bed3-d7d0-463d-9edd-8dd27af33cc5",
   "metadata": {},
   "outputs": [
    {
     "name": "stdout",
     "output_type": "stream",
     "text": [
      "150\n"
     ]
    }
   ],
   "source": [
    "print(sum(list_of_numbers))"
   ]
  },
  {
   "cell_type": "code",
   "execution_count": 21,
   "id": "bcdd18ae-8736-4823-9a1a-439d09bf954a",
   "metadata": {},
   "outputs": [
    {
     "name": "stdout",
     "output_type": "stream",
     "text": [
      "50\n"
     ]
    }
   ],
   "source": [
    "print(max(list_of_numbers))"
   ]
  },
  {
   "cell_type": "code",
   "execution_count": 22,
   "id": "60e49a7d-f012-4f88-9a3b-3f3dbf213c78",
   "metadata": {},
   "outputs": [
    {
     "name": "stdout",
     "output_type": "stream",
     "text": [
      "10\n"
     ]
    }
   ],
   "source": [
    "print(min(list_of_numbers))"
   ]
  },
  {
   "cell_type": "code",
   "execution_count": 23,
   "id": "1eb9fd79-9dbe-4b67-8a16-c204025715b2",
   "metadata": {},
   "outputs": [
    {
     "name": "stdout",
     "output_type": "stream",
     "text": [
      "1\n"
     ]
    }
   ],
   "source": [
    "print(items.count(\"cat\"))"
   ]
  },
  {
   "cell_type": "markdown",
   "id": "a12106e3-88f5-4691-8b0e-a3ec74a2ef1e",
   "metadata": {},
   "source": [
    "# Tuples"
   ]
  },
  {
   "cell_type": "code",
   "execution_count": 25,
   "id": "41fd7e1a-d027-4e56-ad9f-42aa7aec1b77",
   "metadata": {},
   "outputs": [
    {
     "name": "stdout",
     "output_type": "stream",
     "text": [
      "blue\n"
     ]
    }
   ],
   "source": [
    "colors = (\"red\", \"blue\", \"green\", \"yellow\")\n",
    "print(colors[1])"
   ]
  },
  {
   "cell_type": "code",
   "execution_count": 26,
   "id": "dca8c063-5519-4bd6-a7f0-2d9f13baf4ec",
   "metadata": {},
   "outputs": [
    {
     "ename": "TypeError",
     "evalue": "'tuple' object does not support item assignment",
     "output_type": "error",
     "traceback": [
      "\u001b[1;31m---------------------------------------------------------------------------\u001b[0m",
      "\u001b[1;31mTypeError\u001b[0m                                 Traceback (most recent call last)",
      "Cell \u001b[1;32mIn[26], line 1\u001b[0m\n\u001b[1;32m----> 1\u001b[0m colors[\u001b[38;5;241m1\u001b[39m] \u001b[38;5;241m=\u001b[39m \u001b[38;5;124m\"\u001b[39m\u001b[38;5;124mpurple\u001b[39m\u001b[38;5;124m\"\u001b[39m\n\u001b[0;32m      2\u001b[0m \u001b[38;5;28mprint\u001b[39m(colors)\n",
      "\u001b[1;31mTypeError\u001b[0m: 'tuple' object does not support item assignment"
     ]
    }
   ],
   "source": [
    "colors[1] = \"purple\"\n",
    "print(colors)  # Turples are immutable"
   ]
  },
  {
   "cell_type": "code",
   "execution_count": 37,
   "id": "8a438165-7e30-4338-88fa-2a863ddcf53a",
   "metadata": {},
   "outputs": [
    {
     "name": "stdout",
     "output_type": "stream",
     "text": [
      "(2, 3, 4, 5, 6)\n"
     ]
    }
   ],
   "source": [
    "list_of_numbers = [2, 3, 4, 5, 6]\n",
    "tuple_of_numbers = tuple(list_of_numbers)\n",
    "\n",
    "print(tuple_of_numbers)"
   ]
  },
  {
   "cell_type": "code",
   "execution_count": 39,
   "id": "eccbcafa-bff1-4e47-a09f-93bc6f48fcc0",
   "metadata": {},
   "outputs": [
    {
     "name": "stdout",
     "output_type": "stream",
     "text": [
      "True\n"
     ]
    }
   ],
   "source": [
    "print(\"blue\" in colors)"
   ]
  },
  {
   "cell_type": "code",
   "execution_count": 41,
   "id": "92bf1cc9-b2ba-4152-8fb4-78beebae401c",
   "metadata": {},
   "outputs": [
    {
     "name": "stdout",
     "output_type": "stream",
     "text": [
      "4\n"
     ]
    }
   ],
   "source": [
    "print(len(colors))"
   ]
  },
  {
   "cell_type": "code",
   "execution_count": 43,
   "id": "d9116c55-de43-4e87-878c-8349618697fa",
   "metadata": {},
   "outputs": [
    {
     "name": "stdout",
     "output_type": "stream",
     "text": [
      "('green', 'yellow')\n"
     ]
    }
   ],
   "source": [
    "print(colors[-2:])"
   ]
  },
  {
   "cell_type": "code",
   "execution_count": 45,
   "id": "018f2e6e-30b8-4928-a323-0cf0360b4d0f",
   "metadata": {},
   "outputs": [
    {
     "name": "stdout",
     "output_type": "stream",
     "text": [
      "('orange', 'pink', 'indigo', 'white')\n"
     ]
    }
   ],
   "source": [
    "tuple1 = (\"orange\", \"pink\")\n",
    "tuple2 = (\"indigo\", \"white\")\n",
    "tuple3 = tuple1 + tuple2\n",
    "print(tuple3)"
   ]
  },
  {
   "cell_type": "code",
   "execution_count": 47,
   "id": "343bb753-dc58-496a-96ea-f027727b9d20",
   "metadata": {},
   "outputs": [
    {
     "name": "stdout",
     "output_type": "stream",
     "text": [
      "The x_coordinate is: 5 The y_coordinate is: 10\n"
     ]
    }
   ],
   "source": [
    "coordinates = (5, 10)\n",
    "x = coordinates[0]\n",
    "y = coordinates[1]\n",
    "\n",
    "print(f\"The x_coordinate is: {x}\", f\"The y_coordinate is: {y}\")"
   ]
  },
  {
   "cell_type": "code",
   "execution_count": 49,
   "id": "e86fa073-ba73-4ca1-89a5-49f46479effe",
   "metadata": {},
   "outputs": [
    {
     "name": "stdout",
     "output_type": "stream",
     "text": [
      "4\n"
     ]
    }
   ],
   "source": [
    "num = ( 1, 2, 3, 4)\n",
    "print(max(num))"
   ]
  },
  {
   "cell_type": "code",
   "execution_count": 51,
   "id": "277eb568-5a87-437e-a65c-75bfc893ebee",
   "metadata": {},
   "outputs": [
    {
     "name": "stdout",
     "output_type": "stream",
     "text": [
      "[2, 3, 4, 5, 6]\n",
      "(2, 3, 4, 5, 6)\n"
     ]
    }
   ],
   "source": [
    "tuple_of_numbers = (2, 3, 4, 5, 6)\n",
    "list_of_numbers = list(tuple_of_numbers)\n",
    "print(list_of_numbers)\n",
    "\n",
    "tuple_of_numbers = tuple(list_of_numbers)\n",
    "print(tuple_of_numbers)"
   ]
  },
  {
   "cell_type": "markdown",
   "id": "37be6e6d-3bdf-4714-bdb0-f77f1bcf73cf",
   "metadata": {},
   "source": [
    "# Dictionary"
   ]
  },
  {
   "cell_type": "code",
   "execution_count": 53,
   "id": "a1e68d5d-f38f-4f92-916b-8b375477bfa6",
   "metadata": {},
   "outputs": [
    {
     "name": "stdout",
     "output_type": "stream",
     "text": [
      "{'Funmi': 90, 'Anthonia': 100, 'Victoria': 80}\n"
     ]
    }
   ],
   "source": [
    "dict_students = {\"Funmi\": 90, \"Anthonia\": 100, \"Victoria\": 80}\n",
    "print(dict_students)"
   ]
  },
  {
   "cell_type": "code",
   "execution_count": 55,
   "id": "7ade0107-2a9b-429d-979a-12aa6625465a",
   "metadata": {},
   "outputs": [
    {
     "name": "stdout",
     "output_type": "stream",
     "text": [
      "{'Funmi': 90, 'Anthonia': 100, 'Victoria': 80, 'Kelly': 75}\n"
     ]
    }
   ],
   "source": [
    "dict_students[\"Kelly\"] = 75\n",
    "print(dict_students)"
   ]
  },
  {
   "cell_type": "code",
   "execution_count": 57,
   "id": "b135f8e9-94a1-4071-988d-c62b2400b036",
   "metadata": {},
   "outputs": [
    {
     "name": "stdout",
     "output_type": "stream",
     "text": [
      "{'Funmi': 90, 'Anthonia': 100, 'Victoria': 85, 'Kelly': 75}\n"
     ]
    }
   ],
   "source": [
    "dict_students[\"Victoria\"] = 85\n",
    "print(dict_students)"
   ]
  },
  {
   "cell_type": "code",
   "execution_count": 59,
   "id": "d83d943e-f6c5-4bc6-bc67-06eebaa848fe",
   "metadata": {},
   "outputs": [
    {
     "name": "stdout",
     "output_type": "stream",
     "text": [
      "{'Funmi': 90, 'Anthonia': 100, 'Kelly': 75}\n"
     ]
    }
   ],
   "source": [
    "del dict_students[\"Victoria\"]\n",
    "print(dict_students)"
   ]
  },
  {
   "cell_type": "code",
   "execution_count": 61,
   "id": "acdfcd56-5896-4f68-a202-bd948c780e18",
   "metadata": {},
   "outputs": [
    {
     "name": "stdout",
     "output_type": "stream",
     "text": [
      "dict_keys(['Funmi', 'Anthonia', 'Kelly'])\n"
     ]
    }
   ],
   "source": [
    "print(dict_students.keys())"
   ]
  },
  {
   "cell_type": "code",
   "execution_count": 63,
   "id": "252937db-0fb2-40da-b21b-e7a7d6f16a40",
   "metadata": {},
   "outputs": [
    {
     "name": "stdout",
     "output_type": "stream",
     "text": [
      "dict_values([90, 100, 75])\n"
     ]
    }
   ],
   "source": [
    "print(dict_students.values())"
   ]
  },
  {
   "cell_type": "code",
   "execution_count": 65,
   "id": "8c0107e7-0ce8-459d-9a7c-9305e00ff117",
   "metadata": {},
   "outputs": [
    {
     "name": "stdout",
     "output_type": "stream",
     "text": [
      "True\n"
     ]
    }
   ],
   "source": [
    "key = \"Funmi\"\n",
    "print(key in dict_students)"
   ]
  },
  {
   "cell_type": "code",
   "execution_count": 67,
   "id": "66729cd0-9c0d-4141-831c-abfbfa23718b",
   "metadata": {},
   "outputs": [
    {
     "name": "stdout",
     "output_type": "stream",
     "text": [
      "100\n"
     ]
    }
   ],
   "source": [
    "print(dict_students.get(\"Anthonia\"))"
   ]
  },
  {
   "cell_type": "code",
   "execution_count": 69,
   "id": "217dff47-eafd-4c14-94cd-5b2dada0532b",
   "metadata": {},
   "outputs": [
    {
     "name": "stdout",
     "output_type": "stream",
     "text": [
      "Funmi: 90\n",
      "Anthonia: 100\n",
      "Kelly: 75\n"
     ]
    }
   ],
   "source": [
    "for key, value in dict_students.items():\n",
    "    print(f\"{key}: {value}\")"
   ]
  },
  {
   "cell_type": "code",
   "execution_count": 71,
   "id": "e174f546-7902-4ab2-b83c-58d889210c70",
   "metadata": {},
   "outputs": [
    {
     "name": "stdout",
     "output_type": "stream",
     "text": [
      "{1: 1, 2: 4, 3: 9, 4: 16, 5: 25, 6: 36, 7: 49, 8: 64, 9: 81, 10: 100}\n"
     ]
    }
   ],
   "source": [
    "squares_dict = {x: x**2 for x in range(1, 11)}\n",
    "print(squares_dict)"
   ]
  },
  {
   "cell_type": "code",
   "execution_count": null,
   "id": "6aafd787-bf5b-49ae-8adb-59c54378bfb4",
   "metadata": {},
   "outputs": [],
   "source": []
  }
 ],
 "metadata": {
  "kernelspec": {
   "display_name": "Python [conda env:base] *",
   "language": "python",
   "name": "conda-base-py"
  },
  "language_info": {
   "codemirror_mode": {
    "name": "ipython",
    "version": 3
   },
   "file_extension": ".py",
   "mimetype": "text/x-python",
   "name": "python",
   "nbconvert_exporter": "python",
   "pygments_lexer": "ipython3",
   "version": "3.11.5"
  }
 },
 "nbformat": 4,
 "nbformat_minor": 5
}
